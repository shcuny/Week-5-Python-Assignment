{
 "metadata": {
  "name": "",
  "signature": "sha256:39254d72b7b79a3fb7e3a682d026281fa5deedc2aff1ec2a576191ea4651e638"
 },
 "nbformat": 3,
 "nbformat_minor": 0,
 "worksheets": [
  {
   "cells": [
    {
     "cell_type": "code",
     "collapsed": false,
     "input": [
      "import re\n",
      "readfile = open('C:\\DataPython\\movies.txt')\n",
      "for line in readfile:\n",
      "    col=line.split('\\t')\n",
      "    if re.search('-59',col[2]):\n",
      "        #display movie titles only for 1959\n",
      "        print col[1]\n",
      "readfile.close()"
     ],
     "language": "python",
     "metadata": {},
     "outputs": [
      {
       "output_type": "stream",
       "stream": "stdout",
       "text": [
        "North by Northwest (1959)\n",
        "Some Like It Hot (1959)\n",
        "Ben-Hur (1959)\n",
        "\"Shaggy Dog, The (1959)\"\n"
       ]
      }
     ],
     "prompt_number": 8
    },
    {
     "cell_type": "code",
     "collapsed": false,
     "input": [
      "import re\n",
      "readfile = open('C:\\DataPython\\movies.txt')\n",
      "for line in readfile:\n",
      "    col=line.split('\\t')\n",
      "    if re.search('-59',col[2]):\n",
      "        #display all columns for all movies from 1959\n",
      "        print col\n",
      "readfile.close()"
     ],
     "language": "python",
     "metadata": {},
     "outputs": [
      {
       "output_type": "stream",
       "stream": "stdout",
       "text": [
        "['480', 'North by Northwest (1959)', '1-Jan-59', 'http://us.imdb.com/M/title-exact?North%20by%20Northwest%20(1959)', '0', '0', '0', '0', '0', '1', '0', '0', '0', '0', '0', '0', '0', '0', '0', '0', '1', '0', '0\\n']\n",
        "['482', 'Some Like It Hot (1959)', '1-Jan-59', 'http://us.imdb.com/M/title-exact?Some%20Like%20It%20Hot%20(1959)', '0', '0', '0', '0', '0', '1', '1', '0', '0', '0', '0', '0', '0', '0', '0', '0', '0', '0', '0\\n']\n",
        "['526', 'Ben-Hur (1959)', '1-Jan-59', 'http://us.imdb.com/M/title-exact?Ben-Hur%20(1959)', '0', '1', '1', '0', '0', '0', '0', '0', '1', '0', '0', '0', '0', '0', '0', '0', '0', '0', '0\\n']\n",
        "['843', '\"Shaggy Dog, The (1959)\"', '1-Jan-59', '\"http://us.imdb.com/M/title-exact?Shaggy%20Dog,%20The%20(1959)\"', '0', '0', '0', '0', '1', '1', '0', '0', '0', '0', '0', '0', '0', '0', '0', '0', '0', '0', '0\\n']\n"
       ]
      }
     ],
     "prompt_number": 9
    }
   ],
   "metadata": {}
  }
 ]
}